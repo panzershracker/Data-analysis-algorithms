{
  "nbformat": 4,
  "nbformat_minor": 0,
  "metadata": {
    "colab": {
      "name": "HW les 1.ipynb",
      "provenance": [],
      "collapsed_sections": [],
      "include_colab_link": true
    },
    "kernelspec": {
      "name": "python3",
      "display_name": "Python 3"
    }
  },
  "cells": [
    {
      "cell_type": "markdown",
      "metadata": {
        "id": "view-in-github",
        "colab_type": "text"
      },
      "source": [
        "<a href=\"https://colab.research.google.com/github/panzershracker/Data-analysis-algorithms/blob/master/HW_les_1.ipynb\" target=\"_parent\"><img src=\"https://colab.research.google.com/assets/colab-badge.svg\" alt=\"Open In Colab\"/></a>"
      ]
    },
    {
      "cell_type": "code",
      "metadata": {
        "colab_type": "code",
        "id": "ak8b3KV45kVW",
        "colab": {}
      },
      "source": [
        "import numpy as np\n",
        "import matplotlib.pyplot as plt"
      ],
      "execution_count": 0,
      "outputs": []
    },
    {
      "cell_type": "code",
      "metadata": {
        "colab_type": "code",
        "id": "JTSC2cFnCd8T",
        "colab": {}
      },
      "source": [
        "def calc_mse(y, y_pred):\n",
        "  err = np.mean((y - y_pred)**2)\n",
        "  return err"
      ],
      "execution_count": 0,
      "outputs": []
    },
    {
      "cell_type": "code",
      "metadata": {
        "colab_type": "code",
        "id": "BoU7Rm_1DPQq",
        "colab": {}
      },
      "source": [
        "def calc_mae(y, y_pred):\n",
        "  err = np.mean(np.abs(y - y_pred))\n",
        "  return err"
      ],
      "execution_count": 0,
      "outputs": []
    },
    {
      "cell_type": "markdown",
      "metadata": {
        "colab_type": "text",
        "id": "huXrhXQsZTMt"
      },
      "source": [
        "#**1. Подберите скорость обучения (alpha) и количество итераций:**"
      ]
    },
    {
      "cell_type": "markdown",
      "metadata": {
        "id": "waN_IdxwJXRS",
        "colab_type": "text"
      },
      "source": [
        "Используем некоторую погрешность \"е\", такую, что разница между предыдущей ошибкой и следующей, в пределах этой погрешности будет считаться достигнутым минимумом. Это позволит нам сократить кол-во итераций. Скорость обучения изменим с 1e-4 на 1e-2."
      ]
    },
    {
      "cell_type": "code",
      "metadata": {
        "colab_type": "code",
        "id": "VEXjDozNHdAo",
        "outputId": "41c48d59-99cb-4204-dba2-a16dd3a1c7d2",
        "colab": {
          "base_uri": "https://localhost:8080/",
          "height": 34
        }
      },
      "source": [
        "n = X.shape[1]\n",
        "alpha = 0.01\n",
        "W = np.array([1, 0.5])\n",
        "W, alpha"
      ],
      "execution_count": 199,
      "outputs": [
        {
          "output_type": "execute_result",
          "data": {
            "text/plain": [
              "(array([1. , 0.5]), 0.01)"
            ]
          },
          "metadata": {
            "tags": []
          },
          "execution_count": 199
        }
      ]
    },
    {
      "cell_type": "code",
      "metadata": {
        "id": "96y3f6yaWdfA",
        "colab_type": "code",
        "colab": {
          "base_uri": "https://localhost:8080/",
          "height": 306
        },
        "outputId": "2e13a71a-3330-4f57-ee72-5ba1c977949b"
      },
      "source": [
        "%%time\n",
        "\n",
        "e = 0.001\n",
        "last_err = None\n",
        "\n",
        "\n",
        "for i in range(1000):\n",
        "  y_pred = np.dot(W, X)\n",
        "  err = calc_mse(y, y_pred)\n",
        "  for j in range(len(W)):\n",
        "    W[j] -= alpha * (1/n * 2 * np.sum(X[j] * (y_pred - y)))\n",
        "\n",
        "  if last_err == None:\n",
        "    last_err = err\n",
        "    continue\n",
        "\n",
        "  elif i % 50 == 0:\n",
        "    print(i, W, err)\n",
        "\n",
        "  elif last_err - err <= e:\n",
        "    print(f'Вывод:\\n Необходимое кол-во итераций = {i}\\n Подобранные веса = {W}\\n Финальная ошибка на данной итерации = {err}\\n погрешность = {e}\\n')\n",
        "    break\n",
        "\n",
        "  last_err = err"
      ],
      "execution_count": 200,
      "outputs": [
        {
          "output_type": "stream",
          "text": [
            "50 [21.35487986  8.68914872] 413.5487715072509\n",
            "100 [31.88770806  6.74418155] 175.19445858001853\n",
            "150 [38.13335681  5.59087473] 91.38594686849362\n",
            "200 [41.83683774  4.90699865] 61.9177717428135\n",
            "250 [44.03289    4.5014808] 51.556373747502974\n",
            "300 [45.33508261  4.26102097] 47.913169919666785\n",
            "350 [46.10724347  4.11843556] 46.63217153149881\n",
            "400 [46.56511152  4.03388672] 46.181755648107604\n",
            "450 [46.83661344  3.98375182] 46.023383498786444\n",
            "Вывод:\n",
            " Необходимое кол-во итераций = 479\n",
            " Подобранные веса = [46.94003874  3.96465355]\n",
            " Финальная ошибка на данной итерации = 45.98434114415108\n",
            " погрешность = 0.001\n",
            "\n",
            "CPU times: user 29.6 ms, sys: 939 µs, total: 30.5 ms\n",
            "Wall time: 30.3 ms\n"
          ],
          "name": "stdout"
        }
      ]
    },
    {
      "cell_type": "markdown",
      "metadata": {
        "id": "o-Px0S1WTKpH",
        "colab_type": "text"
      },
      "source": [
        "#**!**\n",
        "### Для первого задания хотел реализовать алгоритм имитации отжига с изменяющейся альфой для более быстрого нахождения минимума, но, не особо вышло."
      ]
    },
    {
      "cell_type": "markdown",
      "metadata": {
        "colab_type": "text",
        "id": "5Qu1o4JhZYwI"
      },
      "source": [
        "#**2. В этом коде мы избавляемся от итераций по весам, но тут есть ошибка, исправьте ее:**"
      ]
    },
    {
      "cell_type": "code",
      "metadata": {
        "id": "gkbwBH4VTm0j",
        "colab_type": "code",
        "colab": {
          "base_uri": "https://localhost:8080/",
          "height": 34
        },
        "outputId": "f99a7f31-cb5b-4a4d-b0c4-a3adac779e97"
      },
      "source": [
        "n = X.shape[1]\n",
        "alpha = 0.01\n",
        "W = np.array([1, 0.5])\n",
        "W, alpha"
      ],
      "execution_count": 255,
      "outputs": [
        {
          "output_type": "execute_result",
          "data": {
            "text/plain": [
              "(array([1. , 0.5]), 0.01)"
            ]
          },
          "metadata": {
            "tags": []
          },
          "execution_count": 255
        }
      ]
    },
    {
      "cell_type": "code",
      "metadata": {
        "id": "KwmDnkNRfPpj",
        "colab_type": "code",
        "colab": {
          "base_uri": "https://localhost:8080/",
          "height": 34
        },
        "outputId": "fc0e13c4-1205-4f91-8001-eaa2a1083bd5"
      },
      "source": [
        "X.shape, (W @ X).shape"
      ],
      "execution_count": 256,
      "outputs": [
        {
          "output_type": "execute_result",
          "data": {
            "text/plain": [
              "((2, 10), (10,))"
            ]
          },
          "metadata": {
            "tags": []
          },
          "execution_count": 256
        }
      ]
    },
    {
      "cell_type": "code",
      "metadata": {
        "colab_type": "code",
        "id": "WZZzDCQLY4pA",
        "outputId": "c6c9e49e-c95c-4c7a-d54b-1d4ccd8ee7a8",
        "colab": {
          "base_uri": "https://localhost:8080/",
          "height": 187
        }
      },
      "source": [
        "for i in range(1000):\n",
        "  y_pred = np.dot(W, X)\n",
        "  err = calc_mse(y, y_pred)\n",
        "  '''for ii in range(W.shape[0]):\n",
        "    W[ii] -= alpha * (1/n * 2 * np.sum(X[ii] * (y_pred - y)))'''\n",
        "  W -= (alpha * 1/n * 2 * ((y_pred - y) @ X.T))\n",
        "  if i % 100 == 0:\n",
        "    print(i, W, err)"
      ],
      "execution_count": 257,
      "outputs": [
        {
          "output_type": "stream",
          "text": [
            "0 [2.102 3.9  ] 3173.15\n",
            "100 [31.88770806  6.74418155] 175.19445858001853\n",
            "200 [41.83683774  4.90699865] 61.9177717428135\n",
            "300 [45.33508261  4.26102097] 47.913169919666785\n",
            "400 [46.56511152  4.03388672] 46.181755648107604\n",
            "500 [46.99760587  3.95402334] 45.96769776787538\n",
            "600 [47.14967657  3.92594232] 45.941233404700036\n",
            "700 [47.20314662  3.91606866] 45.93796156758051\n",
            "800 [47.2219474   3.91259695] 45.93755706443538\n",
            "900 [47.228558    3.91137626] 45.937507054979434\n"
          ],
          "name": "stdout"
        }
      ]
    },
    {
      "cell_type": "markdown",
      "metadata": {
        "id": "rTRO438egZLD",
        "colab_type": "text"
      },
      "source": [
        "#**3. вместо того, чтобы задавать количество итераций, задайте условие остановки алгоритма - когда ошибка за итерацию начинает изменяться ниже определенного порога (упрощенный аналог параметра tol в линейной регрессии в sklearn).**"
      ]
    },
    {
      "cell_type": "markdown",
      "metadata": {
        "id": "ZR2VeSMTgk_a",
        "colab_type": "text"
      },
      "source": [
        "#**!**\n",
        "Изначально я реализовал этот подход в первом задании, но повторим с примером из второго задания."
      ]
    },
    {
      "cell_type": "code",
      "metadata": {
        "colab_type": "code",
        "outputId": "d8d5ad19-a475-4984-f608-d42a5c096cbe",
        "id": "sPa87EiOgtQu",
        "colab": {
          "base_uri": "https://localhost:8080/",
          "height": 34
        }
      },
      "source": [
        "n = X.shape[1]\n",
        "alpha = 0.01\n",
        "W = np.array([1, 0.5])\n",
        "W, alpha"
      ],
      "execution_count": 260,
      "outputs": [
        {
          "output_type": "execute_result",
          "data": {
            "text/plain": [
              "(array([1. , 0.5]), 0.01)"
            ]
          },
          "metadata": {
            "tags": []
          },
          "execution_count": 260
        }
      ]
    },
    {
      "cell_type": "code",
      "metadata": {
        "colab_type": "code",
        "outputId": "357f959f-6bf1-410b-e3ae-7b41f10627fd",
        "id": "DpPHze8pgtRH",
        "colab": {
          "base_uri": "https://localhost:8080/",
          "height": 221
        }
      },
      "source": [
        "%%time\n",
        "\n",
        "e = 0.001\n",
        "last_err = None\n",
        "\n",
        "for i in range(1000):\n",
        "  y_pred = np.dot(W, X)\n",
        "  err = calc_mse(y, y_pred)\n",
        "  '''for ii in range(W.shape[0]):\n",
        "    W[ii] -= alpha * (1/n * 2 * np.sum(X[ii] * (y_pred - y)))'''\n",
        "  W -= (alpha * 1/n * 2 * ((y_pred - y) @ X.T))\n",
        "\n",
        "  if last_err == None:\n",
        "    last_err = err\n",
        "    continue\n",
        "\n",
        "  elif i % 100 == 0:\n",
        "    print(i, W, err)\n",
        "    \n",
        "  elif last_err - err <= e:\n",
        "    print(f'Вывод:\\n Необходимое кол-во итераций = {i}\\n Подобранные веса = {W}\\n Финальная ошибка на данной итерации = {err}\\n погрешность = {e}\\n')\n",
        "    break\n",
        "\n",
        "  last_err = err"
      ],
      "execution_count": 261,
      "outputs": [
        {
          "output_type": "stream",
          "text": [
            "100 [31.88770806  6.74418155] 175.19445858001853\n",
            "200 [41.83683774  4.90699865] 61.9177717428135\n",
            "300 [45.33508261  4.26102097] 47.913169919666785\n",
            "400 [46.56511152  4.03388672] 46.181755648107604\n",
            "Вывод:\n",
            " Необходимое кол-во итераций = 479\n",
            " Подобранные веса = [46.94003874  3.96465355]\n",
            " Финальная ошибка на данной итерации = 45.98434114415108\n",
            " погрешность = 0.001\n",
            "\n",
            "CPU times: user 25.6 ms, sys: 8.24 ms, total: 33.9 ms\n",
            "Wall time: 30.8 ms\n"
          ],
          "name": "stdout"
        }
      ]
    }
  ]
}