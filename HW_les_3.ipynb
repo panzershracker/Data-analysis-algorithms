{
  "nbformat": 4,
  "nbformat_minor": 0,
  "metadata": {
    "colab": {
      "name": "HW les 3.ipynb",
      "provenance": [],
      "collapsed_sections": [],
      "include_colab_link": true
    },
    "kernelspec": {
      "name": "python3",
      "display_name": "Python 3"
    }
  },
  "cells": [
    {
      "cell_type": "markdown",
      "metadata": {
        "id": "view-in-github",
        "colab_type": "text"
      },
      "source": [
        "<a href=\"https://colab.research.google.com/github/panzershracker/Data-analysis-algorithms/blob/master/HW_les_3.ipynb\" target=\"_parent\"><img src=\"https://colab.research.google.com/assets/colab-badge.svg\" alt=\"Open In Colab\"/></a>"
      ]
    },
    {
      "cell_type": "code",
      "metadata": {
        "id": "zhwkeWtb1O0w",
        "colab_type": "code",
        "colab": {}
      },
      "source": [
        "import numpy as np\n",
        "import matplotlib.pyplot as plt"
      ],
      "execution_count": 0,
      "outputs": []
    },
    {
      "cell_type": "code",
      "metadata": {
        "id": "FeKFn2yb1To4",
        "colab_type": "code",
        "colab": {}
      },
      "source": [
        "X = np.array([[1, 1, 1, 1, 1, 1, 1, 1, 1, 1],\n",
        "              [1, 1, 2, 1, 3, 0, 5, 10, 1, 2],\n",
        "              [500, 700, 750, 600, 1450,\n",
        "               800, 1500, 2000, 450, 1000],\n",
        "              [1, 1, 2, 1, 2, \n",
        "               1, 3, 3, 1, 2]], dtype = np.float64)\n",
        "y = np.array([0, 0, 1, 0, 1,\n",
        "              0, 1, 0, 1, 1], dtype = np.float64)"
      ],
      "execution_count": 0,
      "outputs": []
    },
    {
      "cell_type": "code",
      "metadata": {
        "id": "yXSj4nbxHsFd",
        "colab_type": "code",
        "outputId": "0606451b-86f6-4498-e219-a6587d0a15a7",
        "colab": {
          "base_uri": "https://localhost:8080/",
          "height": 153
        }
      },
      "source": [
        "X"
      ],
      "execution_count": 72,
      "outputs": [
        {
          "output_type": "execute_result",
          "data": {
            "text/plain": [
              "array([[1.00e+00, 1.00e+00, 1.00e+00, 1.00e+00, 1.00e+00, 1.00e+00,\n",
              "        1.00e+00, 1.00e+00, 1.00e+00, 1.00e+00],\n",
              "       [1.00e+00, 1.00e+00, 2.00e+00, 1.00e+00, 3.00e+00, 0.00e+00,\n",
              "        5.00e+00, 1.00e+01, 1.00e+00, 2.00e+00],\n",
              "       [5.00e+02, 7.00e+02, 7.50e+02, 6.00e+02, 1.45e+03, 8.00e+02,\n",
              "        1.50e+03, 2.00e+03, 4.50e+02, 1.00e+03],\n",
              "       [1.00e+00, 1.00e+00, 2.00e+00, 1.00e+00, 2.00e+00, 1.00e+00,\n",
              "        3.00e+00, 3.00e+00, 1.00e+00, 2.00e+00]])"
            ]
          },
          "metadata": {
            "tags": []
          },
          "execution_count": 72
        }
      ]
    },
    {
      "cell_type": "code",
      "metadata": {
        "id": "QU0A16vZHugZ",
        "colab_type": "code",
        "outputId": "999e58f3-5178-4a0c-9e57-f3ace8fb5847",
        "colab": {
          "base_uri": "https://localhost:8080/",
          "height": 34
        }
      },
      "source": [
        "y"
      ],
      "execution_count": 73,
      "outputs": [
        {
          "output_type": "execute_result",
          "data": {
            "text/plain": [
              "array([0., 0., 1., 0., 1., 0., 1., 0., 1., 1.])"
            ]
          },
          "metadata": {
            "tags": []
          },
          "execution_count": 73
        }
      ]
    },
    {
      "cell_type": "code",
      "metadata": {
        "id": "M-aO1NTxOUfo",
        "colab_type": "code",
        "colab": {}
      },
      "source": [
        "def calc_std_feat(x):\n",
        "  res = (x - x.mean()) / x.std()\n",
        "  return res"
      ],
      "execution_count": 0,
      "outputs": []
    },
    {
      "cell_type": "code",
      "metadata": {
        "id": "D8EL0iGJOVpe",
        "colab_type": "code",
        "colab": {}
      },
      "source": [
        "X_st = X.copy()\n",
        "X_st[2, :] = calc_std_feat(X[2, :])"
      ],
      "execution_count": 0,
      "outputs": []
    },
    {
      "cell_type": "code",
      "metadata": {
        "id": "gviMxz7EOuI3",
        "colab_type": "code",
        "outputId": "e855dfdd-14ce-485e-8e48-42926db91278",
        "colab": {
          "base_uri": "https://localhost:8080/",
          "height": 153
        }
      },
      "source": [
        "X_st"
      ],
      "execution_count": 76,
      "outputs": [
        {
          "output_type": "execute_result",
          "data": {
            "text/plain": [
              "array([[ 1.        ,  1.        ,  1.        ,  1.        ,  1.        ,\n",
              "         1.        ,  1.        ,  1.        ,  1.        ,  1.        ],\n",
              "       [ 1.        ,  1.        ,  2.        ,  1.        ,  3.        ,\n",
              "         0.        ,  5.        , 10.        ,  1.        ,  2.        ],\n",
              "       [-0.97958969, -0.56713087, -0.46401617, -0.77336028,  0.97958969,\n",
              "        -0.36090146,  1.08270439,  2.11385144, -1.08270439,  0.05155735],\n",
              "       [ 1.        ,  1.        ,  2.        ,  1.        ,  2.        ,\n",
              "         1.        ,  3.        ,  3.        ,  1.        ,  2.        ]])"
            ]
          },
          "metadata": {
            "tags": []
          },
          "execution_count": 76
        }
      ]
    },
    {
      "cell_type": "code",
      "metadata": {
        "id": "qMR5pOA38dDw",
        "colab_type": "code",
        "colab": {}
      },
      "source": [
        "def calc_logloss(y, y_pred):\n",
        "  err = - np.mean(y * np.log(y_pred) + (1.0 - y) * np.log(1.0 - y_pred))\n",
        "  err = np.sum(err)\n",
        "  return err"
      ],
      "execution_count": 0,
      "outputs": []
    },
    {
      "cell_type": "code",
      "metadata": {
        "id": "R6zfOHMrBvnX",
        "colab_type": "code",
        "outputId": "543127ff-c8c0-4b85-aa9e-7b3f6a55e98f",
        "colab": {
          "base_uri": "https://localhost:8080/",
          "height": 34
        }
      },
      "source": [
        "# Пример применения\n",
        "y1 = np.array([1, 0])\n",
        "y_pred1 = np.array([0.9, 0.1])\n",
        "calc_logloss(y1, y_pred1)"
      ],
      "execution_count": 78,
      "outputs": [
        {
          "output_type": "execute_result",
          "data": {
            "text/plain": [
              "0.10536051565782628"
            ]
          },
          "metadata": {
            "tags": []
          },
          "execution_count": 78
        }
      ]
    },
    {
      "cell_type": "code",
      "metadata": {
        "id": "EEF9rWPNDnss",
        "colab_type": "code",
        "colab": {}
      },
      "source": [
        "def sigmoid(z):\n",
        "  res = 1 / (1 + np.exp(-z))\n",
        "  return res"
      ],
      "execution_count": 0,
      "outputs": []
    },
    {
      "cell_type": "code",
      "metadata": {
        "id": "_9tN8lBEEeXU",
        "colab_type": "code",
        "colab": {}
      },
      "source": [
        "z = np.linspace(-10, 10, 101)"
      ],
      "execution_count": 0,
      "outputs": []
    },
    {
      "cell_type": "code",
      "metadata": {
        "id": "nvIe3RpbEp4l",
        "colab_type": "code",
        "colab": {}
      },
      "source": [
        "probabilities = sigmoid(z)"
      ],
      "execution_count": 0,
      "outputs": []
    },
    {
      "cell_type": "code",
      "metadata": {
        "id": "jQsCfht0Et1V",
        "colab_type": "code",
        "outputId": "b66130c5-6fb4-4c12-88d4-7ba8bb9adee1",
        "colab": {
          "base_uri": "https://localhost:8080/",
          "height": 282
        }
      },
      "source": [
        "plt.plot(z, probabilities)"
      ],
      "execution_count": 82,
      "outputs": [
        {
          "output_type": "execute_result",
          "data": {
            "text/plain": [
              "[<matplotlib.lines.Line2D at 0x7f09264b4828>]"
            ]
          },
          "metadata": {
            "tags": []
          },
          "execution_count": 82
        },
        {
          "output_type": "display_data",
          "data": {
            "image/png": "[encoded data removed]",
            "text/plain": [
              "<Figure size 432x288 with 1 Axes>"
            ]
          },
          "metadata": {
            "tags": []
          }
        }
      ]
    },
    {
      "cell_type": "code",
      "metadata": {
        "id": "e6TH-mkPItb6",
        "colab_type": "code",
        "colab": {}
      },
      "source": [
        "### Logistic Regression"
      ],
      "execution_count": 0,
      "outputs": []
    },
    {
      "cell_type": "code",
      "metadata": {
        "id": "03H6x3_8Vgya",
        "colab_type": "code",
        "colab": {}
      },
      "source": [
        "# W -= alpha * (1/n * 2 * np.dot((y_pred - y), X.T) + lambda_ * W)"
      ],
      "execution_count": 0,
      "outputs": []
    },
    {
      "cell_type": "code",
      "metadata": {
        "id": "qtgUN3LW-UIq",
        "colab_type": "code",
        "colab": {}
      },
      "source": [
        "def eval_model(X, y, iterations, print_=1, alpha=1e-4, reg=0, lambda_=0):\n",
        "  W = np.random.randn(X.shape[0])\n",
        "  \n",
        "  if reg is 'l2':\n",
        "    reg = lambda_ * W\n",
        "  if reg is 'l1':\n",
        "    reg = lambda_ * np.sign(W)\n",
        "  else:\n",
        "    reg = 0\n",
        "\n",
        "  np.random.seed(42)\n",
        "  # W = np.random.randn(X.shape[0])\n",
        "  n = X.shape[1]\n",
        "  for i in range(1, iterations+1):\n",
        "    z = np.dot(W, X)\n",
        "    y_pred = sigmoid(z)\n",
        "    err = calc_logloss(y, y_pred)\n",
        "    W -= alpha * (1/n * np.dot((y_pred - y), X.T) + reg)\n",
        "    if print_ == 1:\n",
        "      if i % (iterations / 10) == 0:\n",
        "        print(i, W, err)\n",
        "  return W"
      ],
      "execution_count": 0,
      "outputs": []
    },
    {
      "cell_type": "code",
      "metadata": {
        "id": "oqX7loklBmYZ",
        "colab_type": "code",
        "outputId": "aff6b76e-d841-4a70-80a6-60000fd1cae9",
        "colab": {
          "base_uri": "https://localhost:8080/",
          "height": 187
        }
      },
      "source": [
        "W = eval_model(X_st, y, iterations=1000, alpha=1e-4, print_=1)"
      ],
      "execution_count": 86,
      "outputs": [
        {
          "output_type": "stream",
          "text": [
            "100 [ 0.49282748 -0.15007528  0.64748973  1.51727915] 1.2014814214705334\n",
            "200 [ 0.48896219 -0.16184918  0.64728128  1.51155738] 1.1828456288538924\n",
            "300 [ 0.48511874 -0.17358386  0.64706349  1.50586552] 1.1643525542846556\n",
            "400 [ 0.4812976  -0.18527698  0.64683669  1.50020462] 1.1460086359433084\n",
            "500 [ 0.47749927 -0.19692597  0.64660127  1.4945758 ] 1.127820879406358\n",
            "600 [ 0.47372426 -0.20852799  0.6463577   1.48898028] 1.109796908143704\n",
            "700 [ 0.46997312 -0.22007992  0.6461065   1.48341934] 1.0919450148769096\n",
            "800 [ 0.46624642 -0.23157833  0.64584825  1.47789438] 1.074274212586137\n",
            "900 [ 0.46254476 -0.24301946  0.64558365  1.4724069 ] 1.0567942835649755\n",
            "1000 [ 0.45886878 -0.25439917  0.64531344  1.46695851] 1.0395158244739489\n"
          ],
          "name": "stdout"
        }
      ]
    },
    {
      "cell_type": "markdown",
      "metadata": {
        "id": "mGXbcSbo_JYL",
        "colab_type": "text"
      },
      "source": [
        "#**Домашнее задание**\n",
        "\n",
        "---\n",
        "\n",
        "\n",
        "\n"
      ]
    },
    {
      "cell_type": "markdown",
      "metadata": {
        "id": "pvg8I8Ua-Sxd",
        "colab_type": "text"
      },
      "source": [
        "###1*. Измените функцию calc_logloss так, чтобы нули по возможности не попадали в np.log.  "
      ]
    },
    {
      "cell_type": "markdown",
      "metadata": {
        "id": "74ddx2MGitkn",
        "colab_type": "text"
      },
      "source": [
        "Хотя, как мне кажется, вероятность попадания нуля в функцию логарифмирования крайне мала, проще будет решить задачу, если переформулировать ее следующим образом: Изменить функцию так, чтобы аргументом функции логарифмирования не был ноль, и ошибка связанная с этим не возникала.\n",
        "Для этого добавим некоторую погрешность \"e\" к каждому элементу предсказанного массива.\n",
        "\n",
        "Если действовать строго по условиям задачи, то необходимо проводить дополнительную проверку элементов предсказанного массива до передачи в формулу логлос на наличие вероятностей 1 и 0, и так же добавлять или вычитать эту погрешность, но этот метод более ресурсоемкий и займет больше времени."
      ]
    },
    {
      "cell_type": "code",
      "metadata": {
        "id": "iOh-qn65_CFW",
        "colab_type": "code",
        "colab": {}
      },
      "source": [
        "e = 1e-30\n",
        "def calc_logloss(y, y_pred):\n",
        "  err = - np.mean(y * np.log(y_pred + e) + (1.0 - y) * np.log(1.0 - (y_pred - e)))\n",
        "  err = np.sum(err)\n",
        "  return err"
      ],
      "execution_count": 0,
      "outputs": []
    },
    {
      "cell_type": "markdown",
      "metadata": {
        "id": "wAxR-ZJm-UaO",
        "colab_type": "text"
      },
      "source": [
        "###2.Подберите аргументы функции eval_model для логистической регрессии таким образом, чтобы log loss был минимальным."
      ]
    },
    {
      "cell_type": "code",
      "metadata": {
        "id": "5Kiwben4_Cvo",
        "colab_type": "code",
        "outputId": "b01cd000-d75d-45b8-936a-753f381747e4",
        "colab": {
          "base_uri": "https://localhost:8080/",
          "height": 187
        }
      },
      "source": [
        "W = eval_model(X_st, y, iterations=10000, alpha=2.8)"
      ],
      "execution_count": 88,
      "outputs": [
        {
          "output_type": "stream",
          "text": [
            "1000 [-23.07359111  -2.44431447  -5.92159612  19.12659928] 0.1668583851674066\n",
            "2000 [-30.03648887  -3.07911011  -7.96042548  24.68661333] 0.13505397288502902\n",
            "3000 [-35.1435287   -3.52865738  -9.43104437  28.8033361 ] 0.11874820300730635\n",
            "4000 [-39.24955206  -3.88594982 -10.60976297  32.0976852 ] 0.10827500617699111\n",
            "5000 [-42.72848225  -4.18380632 -11.60894713  34.87506893] 0.10079407865274126\n",
            "6000 [-45.78028608  -4.44013098 -12.48760854  37.29900135] 0.09506246060769659\n",
            "7000 [-48.52362308  -4.66572919 -13.28028066  39.46666821] 0.09044952142247831\n",
            "8000 [-51.03430763  -4.86763061 -14.00876089  41.44032007] 0.08660030725592985\n",
            "9000 [-53.36350688  -5.05068427 -14.68758784  43.26212674] 0.08329911923123128\n",
            "10000 [-55.54723062  -5.2183962  -15.32686915  44.96191843] 0.0804069565824499\n"
          ],
          "name": "stdout"
        }
      ]
    },
    {
      "cell_type": "markdown",
      "metadata": {
        "id": "CYKYjQOA-akA",
        "colab_type": "text"
      },
      "source": [
        "### 3.Создайте функцию calc_pred_proba, возвращающую предсказанную вероятность класса 1 (на вход подаются W, который уже посчитан функцией eval_model и X, на выходе - массив y_pred_proba).\n"
      ]
    },
    {
      "cell_type": "code",
      "metadata": {
        "id": "G26Dozjr_DhP",
        "colab_type": "code",
        "colab": {}
      },
      "source": [
        "def sigmoid(z):\n",
        "  return 1 / (1 + np.exp(-z))"
      ],
      "execution_count": 0,
      "outputs": []
    },
    {
      "cell_type": "markdown",
      "metadata": {
        "id": "uA3dpum_Jrdi",
        "colab_type": "text"
      },
      "source": [
        "* Добавим в функцию eval_model аргумент print_ для возможности вывода печати."
      ]
    },
    {
      "cell_type": "code",
      "metadata": {
        "id": "CW5TC1lHDcKO",
        "colab_type": "code",
        "colab": {}
      },
      "source": [
        "W = eval_model(X_st, y, iterations=10000, alpha=2.8, print_=0)\n",
        "\n",
        "z = X_st.T @ W\n",
        "\n",
        "y_pred_proba = sigmoid(z)"
      ],
      "execution_count": 0,
      "outputs": []
    },
    {
      "cell_type": "code",
      "metadata": {
        "id": "oDCZBpwnJVLk",
        "colab_type": "code",
        "outputId": "5403962e-b292-4c38-fbdf-8613b445f23e",
        "colab": {
          "base_uri": "https://localhost:8080/",
          "height": 68
        }
      },
      "source": [
        "y_pred_proba"
      ],
      "execution_count": 91,
      "outputs": [
        {
          "output_type": "execute_result",
          "data": {
            "text/plain": [
              "array([3.12240520e-01, 8.15113533e-04, 1.00000000e+00, 1.88813905e-02,\n",
              "       9.76046006e-01, 6.34437146e-03, 1.00000000e+00, 5.25053129e-03,\n",
              "       6.87994534e-01, 1.00000000e+00])"
            ]
          },
          "metadata": {
            "tags": []
          },
          "execution_count": 91
        }
      ]
    },
    {
      "cell_type": "markdown",
      "metadata": {
        "id": "YSFQqTQo-coP",
        "colab_type": "text"
      },
      "source": [
        "###4.Создайте функцию calc_pred, возвращающую предсказанный класс (на вход подаются W, который уже посчитан функцией eval_model и X, на выходе - массив y_pred)."
      ]
    },
    {
      "cell_type": "code",
      "metadata": {
        "id": "fp1LCgGG_Ee0",
        "colab_type": "code",
        "colab": {}
      },
      "source": [
        "def calc_pred(y_pred_proba):\n",
        "  probs = []\n",
        "  for i in y_pred_proba:\n",
        "    if i > 0.5:\n",
        "      probs.append(1)\n",
        "    else:\n",
        "      probs.append(0)\n",
        "  print(probs)\n",
        "  return probs"
      ],
      "execution_count": 0,
      "outputs": []
    },
    {
      "cell_type": "code",
      "metadata": {
        "id": "0SLtvjoyOkft",
        "colab_type": "code",
        "outputId": "00b4aa33-8ebc-4c2a-8b13-bac888a2fac9",
        "colab": {
          "base_uri": "https://localhost:8080/",
          "height": 34
        }
      },
      "source": [
        "y_pred = calc_pred(y_pred_proba)"
      ],
      "execution_count": 93,
      "outputs": [
        {
          "output_type": "stream",
          "text": [
            "[0, 0, 1, 0, 1, 0, 1, 0, 1, 1]\n"
          ],
          "name": "stdout"
        }
      ]
    },
    {
      "cell_type": "markdown",
      "metadata": {
        "id": "w5h6Imf2-e3T",
        "colab_type": "text"
      },
      "source": [
        "###5.Посчитайте Accuracy, матрицу ошибок, точность и полноту, а также F1 score.\n"
      ]
    },
    {
      "cell_type": "code",
      "metadata": {
        "id": "CPeRtmP5_FLI",
        "colab_type": "code",
        "colab": {}
      },
      "source": [
        "def confusion(y, y_pred):\n",
        "  TP, FP, TN, FN = 0,0,0,0\n",
        "\n",
        "  for i in range(len(y)):\n",
        "    if y[i] == y_pred[i] == 1:\n",
        "      TP += 1\n",
        "    if y[i] == y_pred[i] == 0:\n",
        "      TN += 1\n",
        "    if y[i] == 1 and y_pred[i] != y[i]:\n",
        "      FP += 1\n",
        "    if y[i] == 0 and y_pred[i] != y[i]:\n",
        "      FN += 1\n",
        "\n",
        "  return (TP, FP, TN, FN)"
      ],
      "execution_count": 0,
      "outputs": []
    },
    {
      "cell_type": "code",
      "metadata": {
        "id": "NVbaABn6WOyG",
        "colab_type": "code",
        "colab": {}
      },
      "source": [
        "conf = confusion(y, y_pred)\n",
        "TP,FP,TN,FN = conf[0], conf[1], conf[2], conf[3]"
      ],
      "execution_count": 0,
      "outputs": []
    },
    {
      "cell_type": "code",
      "metadata": {
        "id": "PO00RWyEZbBj",
        "colab_type": "code",
        "outputId": "9897bcb7-e3a5-4978-9cba-15b107fe2590",
        "colab": {
          "base_uri": "https://localhost:8080/",
          "height": 34
        }
      },
      "source": [
        "TP,FP,TN,FN"
      ],
      "execution_count": 96,
      "outputs": [
        {
          "output_type": "execute_result",
          "data": {
            "text/plain": [
              "(5, 0, 5, 0)"
            ]
          },
          "metadata": {
            "tags": []
          },
          "execution_count": 96
        }
      ]
    },
    {
      "cell_type": "code",
      "metadata": {
        "id": "GoB-1PEaXD0O",
        "colab_type": "code",
        "colab": {}
      },
      "source": [
        "def Accuracy(TP, FP, TN, FN):\n",
        "  return (TP + TN)/ (TP + TN + TN + FN)"
      ],
      "execution_count": 0,
      "outputs": []
    },
    {
      "cell_type": "code",
      "metadata": {
        "id": "46n9i519Xu1_",
        "colab_type": "code",
        "colab": {}
      },
      "source": [
        "def Precision(TP, FP):\n",
        "  return TP / (TP + FP)"
      ],
      "execution_count": 0,
      "outputs": []
    },
    {
      "cell_type": "code",
      "metadata": {
        "id": "CNf47N27X-wy",
        "colab_type": "code",
        "colab": {}
      },
      "source": [
        "def Recall(TP, FN):\n",
        "  return TP / (TP + FN)"
      ],
      "execution_count": 0,
      "outputs": []
    },
    {
      "cell_type": "code",
      "metadata": {
        "id": "torqvEPAYHl8",
        "colab_type": "code",
        "colab": {}
      },
      "source": [
        "def F1(precision, recall):\n",
        "  return 2* ((precision * recall) / (precision + recall))"
      ],
      "execution_count": 0,
      "outputs": []
    },
    {
      "cell_type": "code",
      "metadata": {
        "id": "9SdN7Rg9Y2uN",
        "colab_type": "code",
        "outputId": "7abba75c-f30c-486e-9c92-b3b2eabb9cf1",
        "colab": {
          "base_uri": "https://localhost:8080/",
          "height": 34
        }
      },
      "source": [
        "accuracy = Accuracy(TP, FP, TN, FN)\n",
        "accuracy"
      ],
      "execution_count": 101,
      "outputs": [
        {
          "output_type": "execute_result",
          "data": {
            "text/plain": [
              "0.6666666666666666"
            ]
          },
          "metadata": {
            "tags": []
          },
          "execution_count": 101
        }
      ]
    },
    {
      "cell_type": "code",
      "metadata": {
        "id": "me9VJJ0lZGE3",
        "colab_type": "code",
        "outputId": "56952d93-287d-4e35-f817-98be35980557",
        "colab": {
          "base_uri": "https://localhost:8080/",
          "height": 34
        }
      },
      "source": [
        "precision = Precision(TP, FP)\n",
        "precision"
      ],
      "execution_count": 102,
      "outputs": [
        {
          "output_type": "execute_result",
          "data": {
            "text/plain": [
              "1.0"
            ]
          },
          "metadata": {
            "tags": []
          },
          "execution_count": 102
        }
      ]
    },
    {
      "cell_type": "code",
      "metadata": {
        "id": "HjyJwlb1Zmk4",
        "colab_type": "code",
        "outputId": "34d657cd-e930-4a90-ab11-ea6279c6bf20",
        "colab": {
          "base_uri": "https://localhost:8080/",
          "height": 34
        }
      },
      "source": [
        "recall = Recall(TP, FN)\n",
        "recall"
      ],
      "execution_count": 103,
      "outputs": [
        {
          "output_type": "execute_result",
          "data": {
            "text/plain": [
              "1.0"
            ]
          },
          "metadata": {
            "tags": []
          },
          "execution_count": 103
        }
      ]
    },
    {
      "cell_type": "code",
      "metadata": {
        "id": "pmkEhvxZZtGs",
        "colab_type": "code",
        "outputId": "12093ecb-7471-4abe-e13e-84f953204510",
        "colab": {
          "base_uri": "https://localhost:8080/",
          "height": 34
        }
      },
      "source": [
        "f1 = F1(precision, recall)\n",
        "f1"
      ],
      "execution_count": 104,
      "outputs": [
        {
          "output_type": "execute_result",
          "data": {
            "text/plain": [
              "1.0"
            ]
          },
          "metadata": {
            "tags": []
          },
          "execution_count": 104
        }
      ]
    },
    {
      "cell_type": "code",
      "metadata": {
        "id": "KXFeimrdaMmu",
        "colab_type": "code",
        "outputId": "c7827b91-ac34-40c9-c9cf-458560c25fd1",
        "colab": {
          "base_uri": "https://localhost:8080/",
          "height": 51
        }
      },
      "source": [
        "conf_matrix = np.array([[TP,FP],\n",
        "                        [FN,TN]])\n",
        "\n",
        "conf_matrix"
      ],
      "execution_count": 105,
      "outputs": [
        {
          "output_type": "execute_result",
          "data": {
            "text/plain": [
              "array([[5, 0],\n",
              "       [0, 5]])"
            ]
          },
          "metadata": {
            "tags": []
          },
          "execution_count": 105
        }
      ]
    },
    {
      "cell_type": "markdown",
      "metadata": {
        "id": "VWpgzwZI-hFp",
        "colab_type": "text"
      },
      "source": [
        "###6.Могла ли модель переобучиться? Почему?\n"
      ]
    },
    {
      "cell_type": "markdown",
      "metadata": {
        "id": "DFRzlI-BcU1p",
        "colab_type": "text"
      },
      "source": [
        "Я считаю, что,скорее всего, модель переобучилась, т.к. мы сильно подгоняли ее изначально для снижения ошибки (во втором задании), сравнивая с правильным результатом, но на какой-либо отложенной выборке, скорее всего, она показала бы себя не с лучшей стороны. Я долго думал над этим вопросом, но другого ответа пока не вижу."
      ]
    },
    {
      "cell_type": "markdown",
      "metadata": {
        "id": "uXakQLJF-jWu",
        "colab_type": "text"
      },
      "source": [
        "###7*. Создайте функции eval_model_l1 и eval_model_l2 с применением L1 и L2 регуляризаций соответственно."
      ]
    },
    {
      "cell_type": "markdown",
      "metadata": {
        "id": "3gVgYjfIa97n",
        "colab_type": "text"
      },
      "source": [
        "#**!**\n",
        "Добавил именованные аргументы к исходной функции для регуляризаций, чтобы не переписывать всю функцию."
      ]
    },
    {
      "cell_type": "code",
      "metadata": {
        "id": "Vk9m0TkJ_G5x",
        "colab_type": "code",
        "colab": {
          "base_uri": "https://localhost:8080/",
          "height": 204
        },
        "outputId": "3854c5dd-561d-4c43-f877-9b0a777c6aa0"
      },
      "source": [
        "eval_model(X_st, y, iterations=10000, alpha=1e-4, print_=1, reg='l1', lambda_=1e-4)"
      ],
      "execution_count": 106,
      "outputs": [
        {
          "output_type": "stream",
          "text": [
            "1000 [ 0.4588588  -0.25438918  0.64530343  1.46694852] 1.039517804987923\n",
            "2000 [ 0.42366746 -0.36357989  0.64252381  1.41504967] 0.8807634470495538\n",
            "3000 [ 0.39198067 -0.45897217  0.64077568  1.3697176 ] 0.7587632337679446\n",
            "4000 [ 0.36451836 -0.53303326  0.64179979  1.3333347 ] 0.6825386868249015\n",
            "5000 [ 0.34108675 -0.58521791  0.64599767  1.305874  ] 0.6416837633324349\n",
            "6000 [ 0.32082596 -0.62081869  0.65254637  1.28537796] 0.6200722358423554\n",
            "7000 [ 0.3029026  -0.64519901  0.6605463   1.26986124] 0.6077757729911407\n",
            "8000 [ 0.28671271 -0.66205094  0.66938849  1.25789942] 0.6000585440896278\n",
            "9000 [ 0.27183974 -0.67374109  0.67869804  1.24853085] 0.5947139725050786\n",
            "10000 [ 0.25799209 -0.68181033  0.6882424   1.24109682] 0.5906705971689438\n"
          ],
          "name": "stdout"
        },
        {
          "output_type": "execute_result",
          "data": {
            "text/plain": [
              "array([ 0.25799209, -0.68181033,  0.6882424 ,  1.24109682])"
            ]
          },
          "metadata": {
            "tags": []
          },
          "execution_count": 106
        }
      ]
    },
    {
      "cell_type": "code",
      "metadata": {
        "id": "A9F9VK1FXQAB",
        "colab_type": "code",
        "colab": {
          "base_uri": "https://localhost:8080/",
          "height": 204
        },
        "outputId": "786d5387-7be2-457f-a63d-098d28e37cc9"
      },
      "source": [
        "eval_model(X_st, y, iterations=10000, alpha=1e-4, print_=1, reg='l2', lambda_=1e-4)"
      ],
      "execution_count": 107,
      "outputs": [
        {
          "output_type": "stream",
          "text": [
            "1000 [ 0.45886878 -0.25439917  0.64531344  1.46695851] 1.0395158244739489\n",
            "2000 [ 0.4236874  -0.36359967  0.6425439   1.41506965] 0.8807599507543653\n",
            "3000 [ 0.39201058 -0.45900098  0.64080604  1.36974771] 0.758759980653503\n",
            "4000 [ 0.36455825 -0.53307004  0.64184068  1.33337513] 0.6825375010766789\n",
            "5000 [ 0.34113653 -0.58526221  0.64604926  1.30592474] 0.6416846622934699\n",
            "6000 [ 0.32088549 -0.6208707   0.65260867  1.28543874] 0.6200744628368994\n",
            "7000 [ 0.30297172 -0.64525903  0.66061929  1.26993179] 0.6077787494981906\n",
            "8000 [ 0.28679129 -0.66211922  0.66947217  1.2579795 ] 0.600061942845909\n",
            "9000 [ 0.27192766 -0.67381777  0.67879241  1.24862026] 0.5947176154622895\n",
            "10000 [ 0.25808924 -0.68189547  0.68834749  1.2411954 ] 0.5906743816929662\n"
          ],
          "name": "stdout"
        },
        {
          "output_type": "execute_result",
          "data": {
            "text/plain": [
              "array([ 0.25808924, -0.68189547,  0.68834749,  1.2411954 ])"
            ]
          },
          "metadata": {
            "tags": []
          },
          "execution_count": 107
        }
      ]
    }
  ]
}