{
  "nbformat": 4,
  "nbformat_minor": 0,
  "metadata": {
    "colab": {
      "name": "HW les 2.ipynb",
      "provenance": [],
      "collapsed_sections": [],
      "include_colab_link": true
    },
    "kernelspec": {
      "name": "python3",
      "display_name": "Python 3"
    }
  },
  "cells": [
    {
      "cell_type": "markdown",
      "metadata": {
        "id": "view-in-github",
        "colab_type": "text"
      },
      "source": [
        "<a href=\"https://colab.research.google.com/github/panzershracker/Data-analysis-algorithms/blob/master/HW_les_2.ipynb\" target=\"_parent\"><img src=\"https://colab.research.google.com/assets/colab-badge.svg\" alt=\"Open In Colab\"/></a>"
      ]
    },
    {
      "cell_type": "code",
      "metadata": {
        "id": "_u5bV-OlT34p",
        "colab_type": "code",
        "colab": {}
      },
      "source": [
        "import numpy as np\n",
        "import matplotlib.pyplot as plt\n",
        "from matplotlib import rcParams"
      ],
      "execution_count": 0,
      "outputs": []
    },
    {
      "cell_type": "code",
      "metadata": {
        "id": "_n6il-AZaLuA",
        "colab_type": "code",
        "colab": {}
      },
      "source": [
        "X = np.array([[1, 1, 1, 1, 1, 1, 1, 1, 1, 1],\n",
        "              [1, 1, 2, 1, 3, 0, 5, 10, 1, 2],\n",
        "              [500, 700, 750, 600, 1450,\n",
        "               800, 1500, 2000, 450, 1000],\n",
        "              [1, 1, 2, 1, 2, \n",
        "               1, 3, 3, 1, 2]])"
      ],
      "execution_count": 0,
      "outputs": []
    },
    {
      "cell_type": "code",
      "metadata": {
        "id": "x8yoci01ni-t",
        "colab_type": "code",
        "colab": {}
      },
      "source": [
        "y = [45, 55, 50, 59, 65,\n",
        "    35, 75, 80, 50, 60]"
      ],
      "execution_count": 0,
      "outputs": []
    },
    {
      "cell_type": "code",
      "metadata": {
        "colab_type": "code",
        "outputId": "ca229f92-bf1c-4c87-ffd3-584081beac6f",
        "id": "4lf6tt5THXep",
        "colab": {
          "base_uri": "https://localhost:8080/",
          "height": 153
        }
      },
      "source": [
        "X_norm = X.copy()\n",
        "X_norm = X_norm.astype(np.float64)\n",
        "X_norm"
      ],
      "execution_count": 0,
      "outputs": [
        {
          "output_type": "execute_result",
          "data": {
            "text/plain": [
              "array([[1.00e+00, 1.00e+00, 1.00e+00, 1.00e+00, 1.00e+00, 1.00e+00,\n",
              "        1.00e+00, 1.00e+00, 1.00e+00, 1.00e+00],\n",
              "       [1.00e+00, 1.00e+00, 2.00e+00, 1.00e+00, 3.00e+00, 0.00e+00,\n",
              "        5.00e+00, 1.00e+01, 1.00e+00, 2.00e+00],\n",
              "       [5.00e+02, 7.00e+02, 7.50e+02, 6.00e+02, 1.45e+03, 8.00e+02,\n",
              "        1.50e+03, 2.00e+03, 4.50e+02, 1.00e+03],\n",
              "       [1.00e+00, 1.00e+00, 2.00e+00, 1.00e+00, 2.00e+00, 1.00e+00,\n",
              "        3.00e+00, 3.00e+00, 1.00e+00, 2.00e+00]])"
            ]
          },
          "metadata": {
            "tags": []
          },
          "execution_count": 4
        }
      ]
    },
    {
      "cell_type": "code",
      "metadata": {
        "colab_type": "code",
        "outputId": "ea0fd746-9e6e-4bcd-934e-b6261c83430f",
        "id": "eV4UR678HXMK",
        "colab": {
          "base_uri": "https://localhost:8080/",
          "height": 153
        }
      },
      "source": [
        "X_norm[1] = (X[1] - X[1].min()) / (X[1].max() - X[1].min())\n",
        "X_norm"
      ],
      "execution_count": 0,
      "outputs": [
        {
          "output_type": "execute_result",
          "data": {
            "text/plain": [
              "array([[1.00e+00, 1.00e+00, 1.00e+00, 1.00e+00, 1.00e+00, 1.00e+00,\n",
              "        1.00e+00, 1.00e+00, 1.00e+00, 1.00e+00],\n",
              "       [1.00e-01, 1.00e-01, 2.00e-01, 1.00e-01, 3.00e-01, 0.00e+00,\n",
              "        5.00e-01, 1.00e+00, 1.00e-01, 2.00e-01],\n",
              "       [5.00e+02, 7.00e+02, 7.50e+02, 6.00e+02, 1.45e+03, 8.00e+02,\n",
              "        1.50e+03, 2.00e+03, 4.50e+02, 1.00e+03],\n",
              "       [1.00e+00, 1.00e+00, 2.00e+00, 1.00e+00, 2.00e+00, 1.00e+00,\n",
              "        3.00e+00, 3.00e+00, 1.00e+00, 2.00e+00]])"
            ]
          },
          "metadata": {
            "tags": []
          },
          "execution_count": 5
        }
      ]
    },
    {
      "cell_type": "code",
      "metadata": {
        "colab_type": "code",
        "outputId": "424ccb05-7faa-4702-a275-d5172a319a9c",
        "id": "Pwe99620HWq8",
        "colab": {
          "base_uri": "https://localhost:8080/",
          "height": 153
        }
      },
      "source": [
        "X_norm[2] = (X[2] - X[2].min()) / (X[2].max() - X[2].min())\n",
        "X_norm"
      ],
      "execution_count": 0,
      "outputs": [
        {
          "output_type": "execute_result",
          "data": {
            "text/plain": [
              "array([[1.        , 1.        , 1.        , 1.        , 1.        ,\n",
              "        1.        , 1.        , 1.        , 1.        , 1.        ],\n",
              "       [0.1       , 0.1       , 0.2       , 0.1       , 0.3       ,\n",
              "        0.        , 0.5       , 1.        , 0.1       , 0.2       ],\n",
              "       [0.03225806, 0.16129032, 0.19354839, 0.09677419, 0.64516129,\n",
              "        0.22580645, 0.67741935, 1.        , 0.        , 0.35483871],\n",
              "       [1.        , 1.        , 2.        , 1.        , 2.        ,\n",
              "        1.        , 3.        , 3.        , 1.        , 2.        ]])"
            ]
          },
          "metadata": {
            "tags": []
          },
          "execution_count": 6
        }
      ]
    },
    {
      "cell_type": "code",
      "metadata": {
        "id": "Zy63bpFfeqzu",
        "colab_type": "code",
        "colab": {}
      },
      "source": [
        "# Стандартизация"
      ],
      "execution_count": 0,
      "outputs": []
    },
    {
      "cell_type": "code",
      "metadata": {
        "id": "8i9pB-3-fMD4",
        "colab_type": "code",
        "outputId": "7a2e43c3-7256-4f4d-ecb8-5cb26ee94085",
        "colab": {
          "base_uri": "https://localhost:8080/",
          "height": 316
        }
      },
      "source": [
        "plt.hist(X[1])"
      ],
      "execution_count": 0,
      "outputs": [
        {
          "output_type": "execute_result",
          "data": {
            "text/plain": [
              "(array([1., 4., 2., 1., 0., 1., 0., 0., 0., 1.]),\n",
              " array([ 0.,  1.,  2.,  3.,  4.,  5.,  6.,  7.,  8.,  9., 10.]),\n",
              " <a list of 10 Patch objects>)"
            ]
          },
          "metadata": {
            "tags": []
          },
          "execution_count": 8
        },
        {
          "output_type": "display_data",
          "data": {
            "image/png": "[encoded data removed]",
            "text/plain": [
              "<Figure size 432x288 with 1 Axes>"
            ]
          },
          "metadata": {
            "tags": []
          }
        }
      ]
    },
    {
      "cell_type": "code",
      "metadata": {
        "id": "-bnAYQqVfRX-",
        "colab_type": "code",
        "outputId": "b812fe96-757c-440e-e65a-4f031e1a65a2",
        "colab": {
          "base_uri": "https://localhost:8080/",
          "height": 333
        }
      },
      "source": [
        "plt.hist(X[2])"
      ],
      "execution_count": 0,
      "outputs": [
        {
          "output_type": "execute_result",
          "data": {
            "text/plain": [
              "(array([3., 2., 1., 1., 0., 0., 2., 0., 0., 1.]),\n",
              " array([ 450.,  605.,  760.,  915., 1070., 1225., 1380., 1535., 1690.,\n",
              "        1845., 2000.]),\n",
              " <a list of 10 Patch objects>)"
            ]
          },
          "metadata": {
            "tags": []
          },
          "execution_count": 9
        },
        {
          "output_type": "display_data",
          "data": {
            "image/png": "[encoded data removed]",
            "text/plain": [
              "<Figure size 432x288 with 1 Axes>"
            ]
          },
          "metadata": {
            "tags": []
          }
        }
      ]
    },
    {
      "cell_type": "code",
      "metadata": {
        "id": "eBMYUxGBfeGs",
        "colab_type": "code",
        "outputId": "6cc27982-c703-4104-a987-9004da8caef9",
        "colab": {
          "base_uri": "https://localhost:8080/",
          "height": 34
        }
      },
      "source": [
        "X1_mean = X[1].mean()\n",
        "X1_mean"
      ],
      "execution_count": 0,
      "outputs": [
        {
          "output_type": "execute_result",
          "data": {
            "text/plain": [
              "2.6"
            ]
          },
          "metadata": {
            "tags": []
          },
          "execution_count": 10
        }
      ]
    },
    {
      "cell_type": "code",
      "metadata": {
        "id": "KsBCCu-Cf45z",
        "colab_type": "code",
        "outputId": "dd063bc5-5aa4-4935-ac3a-d53fa51834c2",
        "colab": {
          "base_uri": "https://localhost:8080/",
          "height": 34
        }
      },
      "source": [
        "X1_std = X[1].std()\n",
        "X1_std"
      ],
      "execution_count": 0,
      "outputs": [
        {
          "output_type": "execute_result",
          "data": {
            "text/plain": [
              "2.8000000000000003"
            ]
          },
          "metadata": {
            "tags": []
          },
          "execution_count": 11
        }
      ]
    },
    {
      "cell_type": "code",
      "metadata": {
        "id": "M57-Pzl_f_rF",
        "colab_type": "code",
        "colab": {}
      },
      "source": [
        "X_st = X.copy().astype(np.float64)"
      ],
      "execution_count": 0,
      "outputs": []
    },
    {
      "cell_type": "code",
      "metadata": {
        "id": "btJMY0YbgKLb",
        "colab_type": "code",
        "outputId": "8cfce3ef-4ebb-4bbb-bdbb-cacd4547d638",
        "colab": {
          "base_uri": "https://localhost:8080/",
          "height": 289
        }
      },
      "source": [
        "X_st[1] = (X[1] - X1_mean) / X1_std\n",
        "X_st"
      ],
      "execution_count": 0,
      "outputs": [
        {
          "output_type": "execute_result",
          "data": {
            "text/plain": [
              "array([[ 1.00000000e+00,  1.00000000e+00,  1.00000000e+00,\n",
              "         1.00000000e+00,  1.00000000e+00,  1.00000000e+00,\n",
              "         1.00000000e+00,  1.00000000e+00,  1.00000000e+00,\n",
              "         1.00000000e+00],\n",
              "       [-5.71428571e-01, -5.71428571e-01, -2.14285714e-01,\n",
              "        -5.71428571e-01,  1.42857143e-01, -9.28571429e-01,\n",
              "         8.57142857e-01,  2.64285714e+00, -5.71428571e-01,\n",
              "        -2.14285714e-01],\n",
              "       [ 5.00000000e+02,  7.00000000e+02,  7.50000000e+02,\n",
              "         6.00000000e+02,  1.45000000e+03,  8.00000000e+02,\n",
              "         1.50000000e+03,  2.00000000e+03,  4.50000000e+02,\n",
              "         1.00000000e+03],\n",
              "       [ 1.00000000e+00,  1.00000000e+00,  2.00000000e+00,\n",
              "         1.00000000e+00,  2.00000000e+00,  1.00000000e+00,\n",
              "         3.00000000e+00,  3.00000000e+00,  1.00000000e+00,\n",
              "         2.00000000e+00]])"
            ]
          },
          "metadata": {
            "tags": []
          },
          "execution_count": 13
        }
      ]
    },
    {
      "cell_type": "code",
      "metadata": {
        "id": "-Y1tzWGCgYjA",
        "colab_type": "code",
        "outputId": "29fbfb0c-4773-4248-cc53-7df919acd826",
        "colab": {
          "base_uri": "https://localhost:8080/",
          "height": 350
        }
      },
      "source": [
        "plt.hist(X_st[1])"
      ],
      "execution_count": 0,
      "outputs": [
        {
          "output_type": "execute_result",
          "data": {
            "text/plain": [
              "(array([1., 4., 2., 1., 1., 0., 0., 0., 0., 1.]),\n",
              " array([-0.92857143, -0.57142857, -0.21428571,  0.14285714,  0.5       ,\n",
              "         0.85714286,  1.21428571,  1.57142857,  1.92857143,  2.28571429,\n",
              "         2.64285714]),\n",
              " <a list of 10 Patch objects>)"
            ]
          },
          "metadata": {
            "tags": []
          },
          "execution_count": 14
        },
        {
          "output_type": "display_data",
          "data": {
            "image/png": "[encoded data removed]",
            "text/plain": [
              "<Figure size 432x288 with 1 Axes>"
            ]
          },
          "metadata": {
            "tags": []
          }
        }
      ]
    },
    {
      "cell_type": "markdown",
      "metadata": {
        "id": "aSgaq9eisRxa",
        "colab_type": "text"
      },
      "source": [
        "#**1. Постройте график зависимости весов всех признаков от lambda в L2-регуляризации (на данных из урока).**"
      ]
    },
    {
      "cell_type": "code",
      "metadata": {
        "id": "ZlJUBOyzgkJV",
        "colab_type": "code",
        "colab": {}
      },
      "source": [
        "def calc_std_feat(x):\n",
        "  res = (x - x.mean()) / x.std()\n",
        "  return res\n",
        "  "
      ],
      "execution_count": 0,
      "outputs": []
    },
    {
      "cell_type": "code",
      "metadata": {
        "id": "6PlDlFY0hGZA",
        "colab_type": "code",
        "colab": {}
      },
      "source": [
        "X_st[2] = calc_std_feat(X[2])"
      ],
      "execution_count": 0,
      "outputs": []
    },
    {
      "cell_type": "code",
      "metadata": {
        "id": "LOKhmhJjt9TR",
        "colab_type": "code",
        "outputId": "0b139db6-5b4d-4ca7-d625-9f89ed4be05a",
        "colab": {
          "base_uri": "https://localhost:8080/",
          "height": 153
        }
      },
      "source": [
        "X_st[3] = calc_std_feat(X[3])\n",
        "X_st"
      ],
      "execution_count": 0,
      "outputs": [
        {
          "output_type": "execute_result",
          "data": {
            "text/plain": [
              "array([[ 1.        ,  1.        ,  1.        ,  1.        ,  1.        ,\n",
              "         1.        ,  1.        ,  1.        ,  1.        ,  1.        ],\n",
              "       [-0.57142857, -0.57142857, -0.21428571, -0.57142857,  0.14285714,\n",
              "        -0.92857143,  0.85714286,  2.64285714, -0.57142857, -0.21428571],\n",
              "       [-0.97958969, -0.56713087, -0.46401617, -0.77336028,  0.97958969,\n",
              "        -0.36090146,  1.08270439,  2.11385144, -1.08270439,  0.05155735],\n",
              "       [-0.89625816, -0.89625816,  0.38411064, -0.89625816,  0.38411064,\n",
              "        -0.89625816,  1.66447944,  1.66447944, -0.89625816,  0.38411064]])"
            ]
          },
          "metadata": {
            "tags": []
          },
          "execution_count": 17
        }
      ]
    },
    {
      "cell_type": "code",
      "metadata": {
        "id": "UwiZ4UcOhQXX",
        "colab_type": "code",
        "outputId": "948751ea-caee-4d3a-fbb1-87fdcabe381e",
        "colab": {
          "base_uri": "https://localhost:8080/",
          "height": 153
        }
      },
      "source": [
        "X_st"
      ],
      "execution_count": 0,
      "outputs": [
        {
          "output_type": "execute_result",
          "data": {
            "text/plain": [
              "array([[ 1.        ,  1.        ,  1.        ,  1.        ,  1.        ,\n",
              "         1.        ,  1.        ,  1.        ,  1.        ,  1.        ],\n",
              "       [-0.57142857, -0.57142857, -0.21428571, -0.57142857,  0.14285714,\n",
              "        -0.92857143,  0.85714286,  2.64285714, -0.57142857, -0.21428571],\n",
              "       [-0.97958969, -0.56713087, -0.46401617, -0.77336028,  0.97958969,\n",
              "        -0.36090146,  1.08270439,  2.11385144, -1.08270439,  0.05155735],\n",
              "       [-0.89625816, -0.89625816,  0.38411064, -0.89625816,  0.38411064,\n",
              "        -0.89625816,  1.66447944,  1.66447944, -0.89625816,  0.38411064]])"
            ]
          },
          "metadata": {
            "tags": []
          },
          "execution_count": 18
        }
      ]
    },
    {
      "cell_type": "code",
      "metadata": {
        "id": "VDpN7UxYnrcS",
        "colab_type": "code",
        "colab": {}
      },
      "source": [
        "def calc_mse(y, y_pred):\n",
        "  err = np.mean((y - y_pred)**2)\n",
        "  return err"
      ],
      "execution_count": 0,
      "outputs": []
    },
    {
      "cell_type": "code",
      "metadata": {
        "id": "7AVoe1Mswjni",
        "colab_type": "code",
        "colab": {}
      },
      "source": [
        "def eval_model_reg2(X, y, lin, iterations):\n",
        "  \n",
        "  alpha=1e-4\n",
        "  w1,w2,w3,w4 = [],[],[],[]\n",
        "   \n",
        "  for lambda_ in lin:\n",
        "    np.random.seed(42)\n",
        "    W = np.random.randn(X.shape[0])\n",
        "    n = X.shape[1]\n",
        "    for i in range(1, iterations+1):\n",
        "      y_pred = np.dot(W, X)\n",
        "      W -= alpha * (1/n * 2 * np.dot((y_pred - y), X.T) + lambda_ * W)\n",
        "      \n",
        "      if i%100 == 0:\n",
        "        w1.append(W[0])\n",
        "        w2.append(W[1])\n",
        "        w3.append(W[2])\n",
        "        w4.append(W[3])      \n",
        "  \n",
        "  return w1,w2,w3,w4 "
      ],
      "execution_count": 0,
      "outputs": []
    },
    {
      "cell_type": "code",
      "metadata": {
        "id": "MTAHj9ZfOGWz",
        "colab_type": "code",
        "colab": {}
      },
      "source": [
        "lin = np.logspace(-5, 5, num=11, dtype=float)\n",
        "weights = eval_model_reg2(X, y, lin, 100)"
      ],
      "execution_count": 0,
      "outputs": []
    },
    {
      "cell_type": "code",
      "metadata": {
        "id": "JO7lOvMsvJEc",
        "colab_type": "code",
        "outputId": "6b6f7f7f-18df-4790-81db-05b134136517",
        "colab": {
          "base_uri": "https://localhost:8080/",
          "height": 51
        }
      },
      "source": [
        "lin"
      ],
      "execution_count": 0,
      "outputs": [
        {
          "output_type": "execute_result",
          "data": {
            "text/plain": [
              "array([1.e-05, 1.e-04, 1.e-03, 1.e-02, 1.e-01, 1.e+00, 1.e+01, 1.e+02,\n",
              "       1.e+03, 1.e+04, 1.e+05])"
            ]
          },
          "metadata": {
            "tags": []
          },
          "execution_count": 22
        }
      ]
    },
    {
      "cell_type": "code",
      "metadata": {
        "id": "h4IXHd0Ra52Y",
        "colab_type": "code",
        "outputId": "793a75e4-eb12-4d4c-d696-56e6eeeac7d5",
        "colab": {
          "base_uri": "https://localhost:8080/",
          "height": 345
        }
      },
      "source": [
        "rcParams['figure.figsize'] = 5,5\n",
        "\n",
        "plt.plot(lin, weights[0], label='w1')\n",
        "plt.plot(lin, weights[1], label='w2')\n",
        "# plt.plot(lin, weights[2], label='w3') - Разница масштабов мешает.\n",
        "plt.plot(lin, weights[3], label='w4')\n",
        "\n",
        "plt.xlabel('lambda')\n",
        "plt.ylabel('weights')\n",
        "plt.legend()\n",
        "plt.grid()\n",
        "plt.show()\n"
      ],
      "execution_count": 0,
      "outputs": [
        {
          "output_type": "display_data",
          "data": {
            "image/png": "[encoded data removed]",
            "text/plain": [
              "<Figure size 360x360 with 1 Axes>"
            ]
          },
          "metadata": {
            "tags": []
          }
        }
      ]
    },
    {
      "cell_type": "markdown",
      "metadata": {
        "id": "l6qMgp9CyB9m",
        "colab_type": "text"
      },
      "source": [
        "#**!**\n",
        "#### График получился какой то корявый и не так прост в реализации. Пытался его построить несколько часов к ряду, но не получал видимого результата. Видимо, из-за разности масштабов, при наложении линии изменений весов выглядят прямыми. Пришлось подсмотреть в разборе, что нужно было сильно завысить параметры лямбды, при том, наверное, в реальной ситуации мы бы такие значения не использовали. "
      ]
    },
    {
      "cell_type": "markdown",
      "metadata": {
        "id": "KmrDU7Y8sTnw",
        "colab_type": "text"
      },
      "source": [
        "# **2. Можно ли к одному и тому же признаку применить сразу и нормализацию, и стандартизацию?**\n"
      ]
    },
    {
      "cell_type": "markdown",
      "metadata": {
        "id": "rWN_DsBysn7e",
        "colab_type": "text"
      },
      "source": [
        "Одновременно - нет. При нормализации (масштабировании по минимаксу) - числа изменяются так, чтобы находиться в диапазоне, например, от 0 до 1. При стандартизации - числа имеют нулевое среднее и трансформируются для попадания в заданный диапазон, например от -2 до 2. Таким образом, при нормализации числа НЕ будут иметь среднего в нуле и единичную дисперсию, что противоречит определению стандартизации, и два этих способа масштабирования являются взаимоисключающими."
      ]
    },
    {
      "cell_type": "markdown",
      "metadata": {
        "id": "Cgnl9tvOsZMR",
        "colab_type": "text"
      },
      "source": [
        " # **3*. Напишите функцию наподобие eval_model_reg2, но для применения L1-регуляризации.**"
      ]
    },
    {
      "cell_type": "markdown",
      "metadata": {
        "id": "dD11cujWIgjx",
        "colab_type": "text"
      },
      "source": [
        "<img src='https://wikimedia.org/api/rest_v1/media/math/render/svg/dfef9f9ff9b5a18268107c5b9f2f1e9640cfa750' height='50'>"
      ]
    },
    {
      "cell_type": "markdown",
      "metadata": {
        "id": "K-L49PQ9I5RH",
        "colab_type": "text"
      },
      "source": [
        "#**!** \n",
        "В случае с L1 регуляризацией, лямбда домножается не на квадрат значения веса, а на абсолютное его значение."
      ]
    },
    {
      "cell_type": "code",
      "metadata": {
        "id": "Aksd35hoEIy6",
        "colab_type": "code",
        "colab": {}
      },
      "source": [
        "def eval_model_reg1(X, y, iterations, alpha=1e-8, lambda_=1e-8):\n",
        "  np.random.seed(42)\n",
        "  W = np.random.randn(X.shape[0])\n",
        "  n = X.shape[1]\n",
        "  for i in range(1, iterations+1):\n",
        "    y_pred = np.dot(W, X)\n",
        "    err = calc_mse(y, y_pred)\n",
        "    W -= alpha * (1/n * 2 * np.dot((y_pred - y), X.T) + lambda_ * np.abs(W)) \n",
        "    if i % (iterations / 10) == 0:\n",
        "      print(i, W, err)\n",
        "  return W"
      ],
      "execution_count": 0,
      "outputs": []
    },
    {
      "cell_type": "code",
      "metadata": {
        "id": "hmnAmU01FYZq",
        "colab_type": "code",
        "outputId": "dc01e0e1-0886-4e4c-af23-26bba9a82647",
        "colab": {
          "base_uri": "https://localhost:8080/",
          "height": 204
        }
      },
      "source": [
        "eval_model_reg1(X,y, 1000)"
      ],
      "execution_count": 0,
      "outputs": [
        {
          "output_type": "stream",
          "text": [
            "100 [ 0.49628032 -0.14001696  0.10332145  1.52211962] 3959.7119301419198\n",
            "200 [ 0.49625349 -0.14020001  0.05394285  1.52204219] 321.0971152751477\n",
            "300 [ 0.49626359 -0.14024068  0.04946386  1.5220403 ] 291.15764714259336\n",
            "400 [ 0.49627704 -0.14026844  0.04905763  1.52204526] 290.9103900637831\n",
            "500 [ 0.49629078 -0.14029503  0.04902084  1.52205085] 290.90744075586366\n",
            "600 [ 0.49630456 -0.14032151  0.04901756  1.52205649] 290.9065016234336\n",
            "700 [ 0.49631834 -0.14034799  0.04901732  1.52206214] 290.90557903984416\n",
            "800 [ 0.49633212 -0.14037446  0.04901736  1.52206778] 290.9046566015186\n",
            "900 [ 0.49634589 -0.14040093  0.04901742  1.52207343] 290.90373417348786\n",
            "1000 [ 0.49635967 -0.1404274   0.04901748  1.52207908] 290.90281175464133\n"
          ],
          "name": "stdout"
        },
        {
          "output_type": "execute_result",
          "data": {
            "text/plain": [
              "array([ 0.49635967, -0.1404274 ,  0.04901748,  1.52207908])"
            ]
          },
          "metadata": {
            "tags": []
          },
          "execution_count": 56
        }
      ]
    }
  ]
}